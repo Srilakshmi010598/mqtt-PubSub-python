{
 "cells": [
  {
   "cell_type": "code",
   "execution_count": null,
   "metadata": {},
   "outputs": [],
   "source": [
    "import requests,json\n",
    "import paho.mqtt.publish as publish"
   ]
  },
  {
   "cell_type": "code",
   "execution_count": null,
   "metadata": {},
   "outputs": [],
   "source": [
    "base_url = 'http://api.openweathermap.org/data/2.5/weather?'\n",
    "apikey = 'a3cd288ed5a291730b79a5cd32958acf'"
   ]
  },
  {
   "cell_type": "code",
   "execution_count": null,
   "metadata": {},
   "outputs": [],
   "source": [
    "cities = ['Bangalore','Chennai','Kolkata','New Delhi','Pune','Coimbatore']"
   ]
  },
  {
   "cell_type": "code",
   "execution_count": null,
   "metadata": {},
   "outputs": [],
   "source": [
    "for city in cities:\n",
    "    hit_url = base_url+'appid='+apikey+'&q='+city\n",
    "    response = requests.get(hit_url)\n",
    "    x = response.json()\n",
    "    if x['cod'] != '404':\n",
    "        y = x['main']\n",
    "        current_temp = y['temp']\n",
    "        current_pressure = y['pressure']\n",
    "        current_humidity = y['humidity']\n",
    "    publish.single('City',city,hostname='test.mosquitto.org')\n",
    "    publish.single('Temperature',str(current_temp),hostname='test.mosquitto.org')\n",
    "    publish.single('Pressure',str(current_pressure),hostname='test.mosquitto.org')\n",
    "    publish.single('Humidity',str(current_humidity),hostname='test.mosquitto.org')\n",
    "        "
   ]
  },
  {
   "cell_type": "code",
   "execution_count": null,
   "metadata": {},
   "outputs": [],
   "source": []
  }
 ],
 "metadata": {
  "kernelspec": {
   "display_name": "Python 3",
   "language": "python",
   "name": "python3"
  },
  "language_info": {
   "codemirror_mode": {
    "name": "ipython",
    "version": 3
   },
   "file_extension": ".py",
   "mimetype": "text/x-python",
   "name": "python",
   "nbconvert_exporter": "python",
   "pygments_lexer": "ipython3",
   "version": "3.7.6"
  }
 },
 "nbformat": 4,
 "nbformat_minor": 4
}
